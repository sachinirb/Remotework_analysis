{
 "cells": [
  {
   "cell_type": "markdown",
   "metadata": {},
   "source": [
    "# Analysis of remote work in IT industry\n",
    "\n",
    "#### Main objectives of the analysis is answering the question regarding the perks and cons of remote working and give helpful insights for someone to take a decision whether to chose remote working. Some of the questions that would be answered along the way would be;\n",
    "\n",
    "1. What are the factors like organization size one should consider when chosing to work remote? \n",
    "2. How is the worklife of a remote worker differ from other workers?\n",
    "3. What are the challenges associated with working remote?\n",
    "4. What are their salaries and job satisfaction?\n",
    "\n",
    "#### For the project I have used the Stackoverflow Developer survey data from 2019 linked in the readme.\n",
    "\n",
    "#### CRISP-DM concepts are followed in the analysis and would be indicated in each step."
   ]
  },
  {
   "cell_type": "code",
   "execution_count": 1,
   "metadata": {},
   "outputs": [],
   "source": [
    "import pandas as pd\n",
    "import numpy as np\n",
    "import matplotlib.pyplot as plt\n",
    "import glob\n",
    "import seaborn as sns\n",
    "from pylab import savefig"
   ]
  },
  {
   "cell_type": "markdown",
   "metadata": {},
   "source": [
    "### 1. Business and Data Understanding\n",
    "\n",
    "For the analysis since we are looking at developers who are working remote, the variable of most interest would be RemoteWork. First let's check the columns of the data and the dimensions of the dataet. It has 88883 individuals and 85 variables."
   ]
  },
  {
   "cell_type": "code",
   "execution_count": 2,
   "metadata": {},
   "outputs": [
    {
     "name": "stdout",
     "output_type": "stream",
     "text": [
      "Index(['Respondent', 'MainBranch', 'Hobbyist', 'OpenSourcer', 'OpenSource',\n",
      "       'Employment', 'Country', 'Student', 'EdLevel', 'UndergradMajor',\n",
      "       'EduOther', 'OrgSize', 'DevType', 'YearsCode', 'Age1stCode',\n",
      "       'YearsCodePro', 'CareerSat', 'JobSat', 'MgrIdiot', 'MgrMoney',\n",
      "       'MgrWant', 'JobSeek', 'LastHireDate', 'LastInt', 'FizzBuzz',\n",
      "       'JobFactors', 'ResumeUpdate', 'CurrencySymbol', 'CurrencyDesc',\n",
      "       'CompTotal', 'CompFreq', 'ConvertedComp', 'WorkWeekHrs', 'WorkPlan',\n",
      "       'WorkChallenge', 'WorkRemote', 'WorkLoc', 'ImpSyn', 'CodeRev',\n",
      "       'CodeRevHrs', 'UnitTests', 'PurchaseHow', 'PurchaseWhat',\n",
      "       'LanguageWorkedWith', 'LanguageDesireNextYear', 'DatabaseWorkedWith',\n",
      "       'DatabaseDesireNextYear', 'PlatformWorkedWith',\n",
      "       'PlatformDesireNextYear', 'WebFrameWorkedWith',\n",
      "       'WebFrameDesireNextYear', 'MiscTechWorkedWith',\n",
      "       'MiscTechDesireNextYear', 'DevEnviron', 'OpSys', 'Containers',\n",
      "       'BlockchainOrg', 'BlockchainIs', 'BetterLife', 'ITperson', 'OffOn',\n",
      "       'SocialMedia', 'Extraversion', 'ScreenName', 'SOVisit1st',\n",
      "       'SOVisitFreq', 'SOVisitTo', 'SOFindAnswer', 'SOTimeSaved',\n",
      "       'SOHowMuchTime', 'SOAccount', 'SOPartFreq', 'SOJobs', 'EntTeams',\n",
      "       'SOComm', 'WelcomeChange', 'SONewContent', 'Age', 'Gender', 'Trans',\n",
      "       'Sexuality', 'Ethnicity', 'Dependents', 'SurveyLength', 'SurveyEase'],\n",
      "      dtype='object')\n",
      "(88883, 85)\n"
     ]
    }
   ],
   "source": [
    "df2019 = pd.read_csv('/home/sachini/DataScienceND/Data/final/2019 Stack Overflow Survey Responses.csv')\n",
    "print(df2019.columns)\n",
    "print(df2019.shape)"
   ]
  },
  {
   "cell_type": "markdown",
   "metadata": {},
   "source": [
    "Check to see the distribution of the numerical variables in the data."
   ]
  },
  {
   "cell_type": "code",
   "execution_count": 3,
   "metadata": {},
   "outputs": [
    {
     "data": {
      "text/html": [
       "<div>\n",
       "<style scoped>\n",
       "    .dataframe tbody tr th:only-of-type {\n",
       "        vertical-align: middle;\n",
       "    }\n",
       "\n",
       "    .dataframe tbody tr th {\n",
       "        vertical-align: top;\n",
       "    }\n",
       "\n",
       "    .dataframe thead th {\n",
       "        text-align: right;\n",
       "    }\n",
       "</style>\n",
       "<table border=\"1\" class=\"dataframe\">\n",
       "  <thead>\n",
       "    <tr style=\"text-align: right;\">\n",
       "      <th></th>\n",
       "      <th>Respondent</th>\n",
       "      <th>CompTotal</th>\n",
       "      <th>ConvertedComp</th>\n",
       "      <th>WorkWeekHrs</th>\n",
       "      <th>CodeRevHrs</th>\n",
       "      <th>Age</th>\n",
       "    </tr>\n",
       "  </thead>\n",
       "  <tbody>\n",
       "    <tr>\n",
       "      <th>count</th>\n",
       "      <td>88883.000000</td>\n",
       "      <td>5.594500e+04</td>\n",
       "      <td>5.582300e+04</td>\n",
       "      <td>64503.000000</td>\n",
       "      <td>49790.000000</td>\n",
       "      <td>79210.000000</td>\n",
       "    </tr>\n",
       "    <tr>\n",
       "      <th>mean</th>\n",
       "      <td>44442.000000</td>\n",
       "      <td>5.519014e+11</td>\n",
       "      <td>1.271107e+05</td>\n",
       "      <td>42.127197</td>\n",
       "      <td>5.084308</td>\n",
       "      <td>30.336699</td>\n",
       "    </tr>\n",
       "    <tr>\n",
       "      <th>std</th>\n",
       "      <td>25658.456325</td>\n",
       "      <td>7.331926e+13</td>\n",
       "      <td>2.841523e+05</td>\n",
       "      <td>37.287610</td>\n",
       "      <td>5.513931</td>\n",
       "      <td>9.178390</td>\n",
       "    </tr>\n",
       "    <tr>\n",
       "      <th>min</th>\n",
       "      <td>1.000000</td>\n",
       "      <td>0.000000e+00</td>\n",
       "      <td>0.000000e+00</td>\n",
       "      <td>1.000000</td>\n",
       "      <td>0.000000</td>\n",
       "      <td>1.000000</td>\n",
       "    </tr>\n",
       "    <tr>\n",
       "      <th>25%</th>\n",
       "      <td>22221.500000</td>\n",
       "      <td>2.000000e+04</td>\n",
       "      <td>2.577750e+04</td>\n",
       "      <td>40.000000</td>\n",
       "      <td>2.000000</td>\n",
       "      <td>24.000000</td>\n",
       "    </tr>\n",
       "    <tr>\n",
       "      <th>50%</th>\n",
       "      <td>44442.000000</td>\n",
       "      <td>6.200000e+04</td>\n",
       "      <td>5.728700e+04</td>\n",
       "      <td>40.000000</td>\n",
       "      <td>4.000000</td>\n",
       "      <td>29.000000</td>\n",
       "    </tr>\n",
       "    <tr>\n",
       "      <th>75%</th>\n",
       "      <td>66662.500000</td>\n",
       "      <td>1.200000e+05</td>\n",
       "      <td>1.000000e+05</td>\n",
       "      <td>44.750000</td>\n",
       "      <td>6.000000</td>\n",
       "      <td>35.000000</td>\n",
       "    </tr>\n",
       "    <tr>\n",
       "      <th>max</th>\n",
       "      <td>88883.000000</td>\n",
       "      <td>1.000000e+16</td>\n",
       "      <td>2.000000e+06</td>\n",
       "      <td>4850.000000</td>\n",
       "      <td>99.000000</td>\n",
       "      <td>99.000000</td>\n",
       "    </tr>\n",
       "  </tbody>\n",
       "</table>\n",
       "</div>"
      ],
      "text/plain": [
       "         Respondent     CompTotal  ConvertedComp   WorkWeekHrs    CodeRevHrs  \\\n",
       "count  88883.000000  5.594500e+04   5.582300e+04  64503.000000  49790.000000   \n",
       "mean   44442.000000  5.519014e+11   1.271107e+05     42.127197      5.084308   \n",
       "std    25658.456325  7.331926e+13   2.841523e+05     37.287610      5.513931   \n",
       "min        1.000000  0.000000e+00   0.000000e+00      1.000000      0.000000   \n",
       "25%    22221.500000  2.000000e+04   2.577750e+04     40.000000      2.000000   \n",
       "50%    44442.000000  6.200000e+04   5.728700e+04     40.000000      4.000000   \n",
       "75%    66662.500000  1.200000e+05   1.000000e+05     44.750000      6.000000   \n",
       "max    88883.000000  1.000000e+16   2.000000e+06   4850.000000     99.000000   \n",
       "\n",
       "                Age  \n",
       "count  79210.000000  \n",
       "mean      30.336699  \n",
       "std        9.178390  \n",
       "min        1.000000  \n",
       "25%       24.000000  \n",
       "50%       29.000000  \n",
       "75%       35.000000  \n",
       "max       99.000000  "
      ]
     },
     "execution_count": 3,
     "metadata": {},
     "output_type": "execute_result"
    }
   ],
   "source": [
    "df2019.describe()"
   ]
  },
  {
   "cell_type": "markdown",
   "metadata": {},
   "source": [
    "Having an initial look at the variable of interest WorkRemote to see the categories. Some categories seem too granualate so might need to merge them to form more meaningful categories to the analysis."
   ]
  },
  {
   "cell_type": "code",
   "execution_count": 4,
   "metadata": {},
   "outputs": [
    {
     "data": {
      "text/plain": [
       "Text(0.5, 1.0, 'Do you work remote?')"
      ]
     },
     "execution_count": 4,
     "metadata": {},
     "output_type": "execute_result"
    },
    {
     "data": {
      "image/png": "[encoded data removed]",
      "text/plain": [
       "<Figure size 432x288 with 1 Axes>"
      ]
     },
     "metadata": {
      "needs_background": "light"
     },
     "output_type": "display_data"
    }
   ],
   "source": [
    "workremote_counts = df2019['WorkRemote'].value_counts()\n",
    "(workremote_counts/df2019.shape[0]).plot(kind='bar');\n",
    "plt.title(\"Do you work remote?\")"
   ]
  },
  {
   "cell_type": "markdown",
   "metadata": {},
   "source": [
    "Checking the magnitude of missing values in the data. "
   ]
  },
  {
   "cell_type": "code",
   "execution_count": 5,
   "metadata": {},
   "outputs": [
    {
     "data": {
      "text/plain": [
       "{'Hobbyist', 'OpenSourcer', 'Respondent'}"
      ]
     },
     "execution_count": 5,
     "metadata": {},
     "output_type": "execute_result"
    }
   ],
   "source": [
    "### Which columns doesn't have any missing values\n",
    "no_null = set(df2019.columns[df2019.isnull().mean()==0])\n",
    "no_null"
   ]
  },
  {
   "cell_type": "code",
   "execution_count": 6,
   "metadata": {},
   "outputs": [
    {
     "data": {
      "text/plain": [
       "68"
      ]
     },
     "execution_count": 6,
     "metadata": {},
     "output_type": "execute_result"
    }
   ],
   "source": [
    "qaurter_null = set(df2019.columns[df2019.isnull().mean()<=0.25])\n",
    "len(qaurter_null)"
   ]
  },
  {
   "cell_type": "code",
   "execution_count": 7,
   "metadata": {},
   "outputs": [
    {
     "data": {
      "text/plain": [
       "{'BlockchainIs',\n",
       " 'BlockchainOrg',\n",
       " 'CodeRevHrs',\n",
       " 'CompFreq',\n",
       " 'CompTotal',\n",
       " 'ConvertedComp',\n",
       " 'MgrIdiot',\n",
       " 'MgrMoney',\n",
       " 'MgrWant',\n",
       " 'MiscTechDesireNextYear',\n",
       " 'MiscTechWorkedWith',\n",
       " 'PurchaseHow',\n",
       " 'PurchaseWhat',\n",
       " 'UnitTests',\n",
       " 'WebFrameDesireNextYear',\n",
       " 'WebFrameWorkedWith',\n",
       " 'WorkWeekHrs'}"
      ]
     },
     "execution_count": 7,
     "metadata": {},
     "output_type": "execute_result"
    }
   ],
   "source": [
    "half_null = set(df2019.columns[df2019.isnull().mean()>=0.25])\n",
    "half_null"
   ]
  },
  {
   "cell_type": "markdown",
   "metadata": {},
   "source": [
    "3 columns doesn't have any missing values. While majority around 68% of the variables have missing values lesser than 25% of values.It is good since it won't cause a big loss of data.So we drop the missing values where necessary. "
   ]
  },
  {
   "cell_type": "markdown",
   "metadata": {},
   "source": [
    "### 2. Data Preparation \n",
    "\n",
    "After having an initial look at the data we found out some aspects that need to be modified such as missing values and modifying categories in variables. First we will drop the missing values as observed earlier stage"
   ]
  },
  {
   "cell_type": "code",
   "execution_count": 8,
   "metadata": {},
   "outputs": [],
   "source": [
    "df2019 = df2019.dropna(how=\"any\").reset_index()"
   ]
  },
  {
   "cell_type": "markdown",
   "metadata": {},
   "source": [
    "Also some of the variables in the dataset is not used in the analysis of focus. So removing those variables and checking the new dataframe size."
   ]
  },
  {
   "cell_type": "code",
   "execution_count": 9,
   "metadata": {},
   "outputs": [
    {
     "name": "stdout",
     "output_type": "stream",
     "text": [
      "(3475, 68)\n"
     ]
    }
   ],
   "source": [
    "drop_list_2019 = ['Respondent','CurrencyDesc', 'FizzBuzz', 'SOVisit1st',\n",
    "       'SOVisitFreq', 'SOVisitTo', 'SOFindAnswer', 'SOTimeSaved',\n",
    "       'SOHowMuchTime', 'SOAccount', 'SOPartFreq', 'SOJobs', 'EntTeams',\n",
    "       'SOComm', 'WelcomeChange', 'SONewContent', 'SurveyLength', 'SurveyEase' ]\n",
    "df2019 = df2019.drop(drop_list_2019, axis=1)\n",
    "print(df2019.shape)"
   ]
  },
  {
   "cell_type": "markdown",
   "metadata": {},
   "source": [
    "##### Since different categories are there to the variable of interest narrowing down them to major categories which would make it easier to convey the ideas in visualizations. "
   ]
  },
  {
   "cell_type": "code",
   "execution_count": 10,
   "metadata": {},
   "outputs": [],
   "source": [
    "#create a dictionary with replacing categorical values for original values\n",
    "merge_dict = {\"A few days each month\": 'Less than half the time', \n",
    "              \"Less than half the time, but at least one day each week\": 'Less than half the time',\n",
    "              \"About half the time\":'Half the time or more',\n",
    "              \"More than half, but not all, the time\":'Half the time or more',\n",
    "              \"All or almost all the time (I'm full-time remote)\":'Full time remote',\n",
    "              \"Less than once per month / Never\":'Never'}"
   ]
  },
  {
   "cell_type": "code",
   "execution_count": 11,
   "metadata": {},
   "outputs": [],
   "source": [
    "def merge_cats(df, col1, col2, dic):\n",
    "    \"\"\"\n",
    "    INPUT:\n",
    "    df - pandas dataframe that needs to be updated\n",
    "    col1 - original column of interest\n",
    "    col2 - duplicate of col1 to be updated with merged values\n",
    "    \n",
    "    OUTPUT:\n",
    "    df with new column containing updated categories\n",
    "    \"\"\"\n",
    "    \n",
    "    df[col2] = df[col1]\n",
    "    df = df.replace({col2: dic})\n",
    "    return df"
   ]
  },
  {
   "cell_type": "code",
   "execution_count": 12,
   "metadata": {},
   "outputs": [],
   "source": [
    "df2019 = merge_cats(df2019,'WorkRemote','WorkRemoteNew', merge_dict)"
   ]
  },
  {
   "cell_type": "markdown",
   "metadata": {},
   "source": [
    "##### In the analysis we need to seperate them into 2 groups as remote and non-remote for ease of interpretation. Therefore dividing into two major categories as remote and not remote using the same function merge_cats\n",
    "Developers who are full remote working, half time or more remote are classified here as remote"
   ]
  },
  {
   "cell_type": "code",
   "execution_count": 14,
   "metadata": {},
   "outputs": [
    {
     "data": {
      "text/plain": [
       "Never                      1464\n",
       "Less than half the time    1392\n",
       "Full time remote            325\n",
       "Half the time or more       187\n",
       "It's complicated            107\n",
       "Name: WorkRemoteNew, dtype: int64"
      ]
     },
     "execution_count": 14,
     "metadata": {},
     "output_type": "execute_result"
    }
   ],
   "source": [
    "#First lets have a look at the value counts of the categories in the new work remote variable\n",
    "df2019.WorkRemoteNew.value_counts()"
   ]
  },
  {
   "cell_type": "code",
   "execution_count": 15,
   "metadata": {},
   "outputs": [],
   "source": [
    "merge_cat_dic = {\"Full time remote\":'Remote Work', \"Half the time or more\":'Remote Work',\n",
    "                 \"Less than half the time\":\"Not Remote\", \"It's complicated\":\"Not Remote\",\n",
    "                 \"Never\":\"Not Remote\"}"
   ]
  },
  {
   "cell_type": "code",
   "execution_count": 18,
   "metadata": {},
   "outputs": [],
   "source": [
    "df2019 = merge_cats(df2019,'WorkRemoteNew','WorkRemoteCat', merge_cat_dic)"
   ]
  },
  {
   "cell_type": "markdown",
   "metadata": {},
   "source": [
    "### 3.Modeling data\n",
    "\n",
    "Since the current business questions aimed towards the remote working, analysis focuses more on an exploratory data analysis, doesn't call for a model."
   ]
  },
  {
   "cell_type": "markdown",
   "metadata": {},
   "source": [
    "### 4. Evalusting Results\n",
    "\n",
    "Now after preparing the data and cleaning it we will move on to the step where we answer the business questions we had in the begining. "
   ]
  },
  {
   "cell_type": "markdown",
   "metadata": {},
   "source": [
    "#### 1. What is the remote work distribution among developers?\n",
    "\n",
    "It is clear that compared to other fields, the majority noted working less remote. This comes as a good reason to learn more insights about remote work as more people seem to be still new to the idea."
   ]
  },
  {
   "cell_type": "code",
   "execution_count": 19,
   "metadata": {},
   "outputs": [
    {
     "data": {
      "image/png": "[encoded data removed]",
      "text/plain": [
       "<Figure size 432x288 with 1 Axes>"
      ]
     },
     "metadata": {},
     "output_type": "display_data"
    }
   ],
   "source": [
    "sns.set_style(\"dark\")\n",
    "ax = sns.countplot(x='WorkRemoteNew', data=df2019, palette=sns.color_palette(\"husl\", 8), order=['Full time remote','Half the time or more','Less than half the time','Never',\"It's complicated\"])\n",
    "ax.set_xticklabels(ax.get_xticklabels(), rotation=40, ha=\"right\")\n",
    "plt.tight_layout()\n",
    "plt.savefig('svm_conf1.png')"
   ]
  },
  {
   "cell_type": "markdown",
   "metadata": {},
   "source": [
    "#### 2. Do the remote workers have longer work hours?\n",
    "\n",
    "Here we are averaging Worktime of developers groupbed by their remote work status. That way we get to see the average workweekhrs for each category of remote work.\n",
    "\n",
    "Working hours of a remote worker, for a week seem as same as other categories in fact a bit lesser than others."
   ]
  },
  {
   "cell_type": "code",
   "execution_count": 20,
   "metadata": {},
   "outputs": [
    {
     "data": {
      "text/html": [
       "<div>\n",
       "<style scoped>\n",
       "    .dataframe tbody tr th:only-of-type {\n",
       "        vertical-align: middle;\n",
       "    }\n",
       "\n",
       "    .dataframe tbody tr th {\n",
       "        vertical-align: top;\n",
       "    }\n",
       "\n",
       "    .dataframe thead th {\n",
       "        text-align: right;\n",
       "    }\n",
       "</style>\n",
       "<table border=\"1\" class=\"dataframe\">\n",
       "  <thead>\n",
       "    <tr style=\"text-align: right;\">\n",
       "      <th></th>\n",
       "      <th>WorkWeekHrs</th>\n",
       "    </tr>\n",
       "    <tr>\n",
       "      <th>WorkRemoteNew</th>\n",
       "      <th></th>\n",
       "    </tr>\n",
       "  </thead>\n",
       "  <tbody>\n",
       "    <tr>\n",
       "      <th>Full time remote</th>\n",
       "      <td>41.446923</td>\n",
       "    </tr>\n",
       "    <tr>\n",
       "      <th>Half the time or more</th>\n",
       "      <td>43.572193</td>\n",
       "    </tr>\n",
       "    <tr>\n",
       "      <th>It's complicated</th>\n",
       "      <td>42.009346</td>\n",
       "    </tr>\n",
       "    <tr>\n",
       "      <th>Less than half the time</th>\n",
       "      <td>41.955819</td>\n",
       "    </tr>\n",
       "    <tr>\n",
       "      <th>Never</th>\n",
       "      <td>42.305328</td>\n",
       "    </tr>\n",
       "  </tbody>\n",
       "</table>\n",
       "</div>"
      ],
      "text/plain": [
       "                         WorkWeekHrs\n",
       "WorkRemoteNew                       \n",
       "Full time remote           41.446923\n",
       "Half the time or more      43.572193\n",
       "It's complicated           42.009346\n",
       "Less than half the time    41.955819\n",
       "Never                      42.305328"
      ]
     },
     "execution_count": 20,
     "metadata": {},
     "output_type": "execute_result"
    }
   ],
   "source": [
    "pd.DataFrame(df2019.groupby(['WorkRemoteNew']).mean()['WorkWeekHrs'])"
   ]
  },
  {
   "cell_type": "markdown",
   "metadata": {},
   "source": [
    "#### 3. Which organizations have more oppoertunities for remote workers?\n",
    "\n",
    "We are visualizing the percentages of remote and non-remote workers for each organization size renaging from 2 to 10,000 or more.\n",
    "\n",
    "According to data, remote work has a general downward trend as the organization size increases. Smaller companies with sizes from 2 to 100 seems to be accommodating more with the remote work. "
   ]
  },
  {
   "cell_type": "code",
   "execution_count": 22,
   "metadata": {},
   "outputs": [
    {
     "data": {
      "image/png": "[encoded data removed]",
      "text/plain": [
       "<Figure size 529.875x360 with 1 Axes>"
      ]
     },
     "metadata": {},
     "output_type": "display_data"
    }
   ],
   "source": [
    "x,y = 'WorkRemoteCat', 'OrgSize'\n",
    "\n",
    "(df2019\n",
    ".groupby(x)[y]\n",
    ".value_counts(normalize=True)\n",
    ".mul(100)\n",
    ".rename('percent')\n",
    ".reset_index()\n",
    ".pipe((sns.catplot,'data'), x=x,y='percent',hue=y,kind='bar',\n",
    "      order=['Remote Work','Not Remote'],\n",
    "      hue_order = [\"2-9 employees\",\"10 to 19 employees\",\"20 to 99 employees\",\"100 to 499 employees\",\"500 to 999 employees\",\"1,000 to 4,999 employees\",\"5,000 to 9,999 employees\",\"10,000 or more employees\"],\n",
    "      palette=sns.color_palette(\"husl\", 8)).set(xlabel='Remote Work', ylabel='Percentage')._legend.set_title(\"Organization Size\"))\n",
    "plt.savefig('svm_conf2.png')"
   ]
  },
  {
   "cell_type": "markdown",
   "metadata": {},
   "source": [
    "#### 4. What socialization means they prefer? Online or in-person?\n",
    "\n",
    "Here we'll be looking at 2 aspects; first being the preferred social platforms and second being the prefered extraversion.\n",
    "\n",
    "Data shows that, among the social media platforms, the majority of remote workers are active on Twitter and Reddit.\n",
    "For extraversion, while non-remote workers prefer in-person contacts over online contacts with a huge gap, remote workers don’t seem to have a considerable favor towards real-life contacts."
   ]
  },
  {
   "cell_type": "code",
   "execution_count": 23,
   "metadata": {},
   "outputs": [
    {
     "name": "stderr",
     "output_type": "stream",
     "text": [
      "/home/sachini/pyenvs/test/lib/python3.6/site-packages/matplotlib/backends/backend_agg.py:214: RuntimeWarning: Glyph 24494 missing from current font.\n",
      "  font.set_text(s, 0.0, flags=flags)\n",
      "/home/sachini/pyenvs/test/lib/python3.6/site-packages/matplotlib/backends/backend_agg.py:214: RuntimeWarning: Glyph 20449 missing from current font.\n",
      "  font.set_text(s, 0.0, flags=flags)\n",
      "/home/sachini/pyenvs/test/lib/python3.6/site-packages/matplotlib/backends/backend_agg.py:183: RuntimeWarning: Glyph 24494 missing from current font.\n",
      "  font.set_text(s, 0, flags=flags)\n",
      "/home/sachini/pyenvs/test/lib/python3.6/site-packages/matplotlib/backends/backend_agg.py:183: RuntimeWarning: Glyph 20449 missing from current font.\n",
      "  font.set_text(s, 0, flags=flags)\n"
     ]
    },
    {
     "data": {
      "image/png": "[encoded data removed]",
      "text/plain": [
       "<Figure size 514.375x360 with 1 Axes>"
      ]
     },
     "metadata": {},
     "output_type": "display_data"
    }
   ],
   "source": [
    "x,y = 'WorkRemoteCat', 'SocialMedia'\n",
    "\n",
    "(df2019\n",
    ".groupby(x)[y]\n",
    ".value_counts(normalize=True)\n",
    ".mul(100)\n",
    ".rename('percent')\n",
    ".reset_index()\n",
    ".pipe((sns.catplot,'data'), x=x,y='percent',hue=y,kind='bar',order=['Remote Work','Not Remote']).set(xlabel='Remote Work', ylabel='Percentage')._legend.set_title(\"Social Media\"))\n",
    "plt.savefig('svm_conf3.png')"
   ]
  },
  {
   "cell_type": "markdown",
   "metadata": {},
   "source": [
    "Extraversion tendencies of remote worker categories"
   ]
  },
  {
   "cell_type": "code",
   "execution_count": 24,
   "metadata": {},
   "outputs": [
    {
     "data": {
      "image/png": "[encoded data removed]",
      "text/plain": [
       "<Figure size 503.375x360 with 1 Axes>"
      ]
     },
     "metadata": {},
     "output_type": "display_data"
    }
   ],
   "source": [
    "x,y = 'WorkRemoteCat', 'Extraversion'\n",
    "\n",
    "(df2019\n",
    ".groupby(x)[y]\n",
    ".value_counts(normalize=True)\n",
    ".mul(100)\n",
    ".rename('percent')\n",
    ".reset_index()\n",
    ".pipe((sns.catplot,'data'), x=x,y='percent',hue=y,kind='bar',order=['Remote Work','Not Remote'],palette=sns.color_palette(\"husl\", 8)).set(xlabel='Remote Work', ylabel='Percentage'))\n",
    "plt.savefig('svm_conf4.png')"
   ]
  },
  {
   "cell_type": "markdown",
   "metadata": {},
   "source": [
    "#### 5.Average salary for remote work groups?\n",
    "\n",
    "One of the major job factors we consider, when accepting an offer or changing paths is the monetary value of the offer. Therefore considering the salaries of all remote work options would give us a good clarity for the decision.\n",
    "\n",
    "A glance at the data proves remote work worthy, as it records high average salaries, and with a huge gap with cases of people who have never worked remote."
   ]
  },
  {
   "cell_type": "code",
   "execution_count": 25,
   "metadata": {},
   "outputs": [
    {
     "data": {
      "text/html": [
       "<div>\n",
       "<style scoped>\n",
       "    .dataframe tbody tr th:only-of-type {\n",
       "        vertical-align: middle;\n",
       "    }\n",
       "\n",
       "    .dataframe tbody tr th {\n",
       "        vertical-align: top;\n",
       "    }\n",
       "\n",
       "    .dataframe thead th {\n",
       "        text-align: right;\n",
       "    }\n",
       "</style>\n",
       "<table border=\"1\" class=\"dataframe\">\n",
       "  <thead>\n",
       "    <tr style=\"text-align: right;\">\n",
       "      <th></th>\n",
       "      <th>Average Salary</th>\n",
       "    </tr>\n",
       "    <tr>\n",
       "      <th>WorkRemoteNew</th>\n",
       "      <th></th>\n",
       "    </tr>\n",
       "  </thead>\n",
       "  <tbody>\n",
       "    <tr>\n",
       "      <th>Full time remote</th>\n",
       "      <td>139133.320000</td>\n",
       "    </tr>\n",
       "    <tr>\n",
       "      <th>Half the time or more</th>\n",
       "      <td>183268.647059</td>\n",
       "    </tr>\n",
       "    <tr>\n",
       "      <th>It's complicated</th>\n",
       "      <td>84062.682243</td>\n",
       "    </tr>\n",
       "    <tr>\n",
       "      <th>Less than half the time</th>\n",
       "      <td>146964.494253</td>\n",
       "    </tr>\n",
       "    <tr>\n",
       "      <th>Never</th>\n",
       "      <td>121481.584016</td>\n",
       "    </tr>\n",
       "  </tbody>\n",
       "</table>\n",
       "</div>"
      ],
      "text/plain": [
       "                         Average Salary\n",
       "WorkRemoteNew                          \n",
       "Full time remote          139133.320000\n",
       "Half the time or more     183268.647059\n",
       "It's complicated           84062.682243\n",
       "Less than half the time   146964.494253\n",
       "Never                     121481.584016"
      ]
     },
     "execution_count": 25,
     "metadata": {},
     "output_type": "execute_result"
    }
   ],
   "source": [
    "salary_tab = pd.DataFrame(df2019.groupby(['WorkRemoteNew']).mean()['ConvertedComp'])\n",
    "salary_tab.rename(columns={\"ConvertedComp\": \"Average Salary\"})"
   ]
  },
  {
   "cell_type": "markdown",
   "metadata": {},
   "source": [
    "#### 6. Job satisfaction of remote work groups?\n",
    "\n",
    "All the stats about work conditions aside, at the end of the day this speaks volumes about all the pros and cons of a job. \n",
    "\n",
    "According to the data, higher percentage of remote workers are satisfied with their job compared to that of non-remote workers."
   ]
  },
  {
   "cell_type": "code",
   "execution_count": 26,
   "metadata": {},
   "outputs": [
    {
     "data": {
      "image/png": "[encoded data removed]",
      "text/plain": [
       "<Figure size 558.125x360 with 1 Axes>"
      ]
     },
     "metadata": {},
     "output_type": "display_data"
    }
   ],
   "source": [
    "x,y = 'WorkRemoteCat', 'JobSat'\n",
    "\n",
    "(df2019\n",
    ".groupby(x)[y]\n",
    ".value_counts(normalize=True)\n",
    ".mul(100)\n",
    ".rename('percent')\n",
    ".reset_index()\n",
    ".pipe((sns.catplot,'data'), x=x,y='percent',hue=y,kind='bar',\n",
    "      order=['Remote Work','Not Remote'],\n",
    "      hue_order = [\"Very satisfied\", \"Slightly satisfied\", \"Neither satisfied nor dissatisfied\", \"Slightly dissatisfied\",\"Very dissatisfied\"],\n",
    "      palette=sns.color_palette(\"husl\", 8)).set(xlabel='Remote Work', ylabel='Percentage')._legend.set_title(\"Job Satisfactiion\"))\n",
    "plt.savefig('svm_conf5.png')"
   ]
  },
  {
   "cell_type": "markdown",
   "metadata": {},
   "source": [
    "All in all remote work seems to have much favourable results compared to their counter parts! So it is worthy to give it a go."
   ]
  },
  {
   "cell_type": "code",
   "execution_count": null,
   "metadata": {},
   "outputs": [],
   "source": []
  }
 ],
 "metadata": {
  "kernelspec": {
   "display_name": "Python 3",
   "language": "python",
   "name": "python3"
  },
  "language_info": {
   "codemirror_mode": {
    "name": "ipython",
    "version": 3
   },
   "file_extension": ".py",
   "mimetype": "text/x-python",
   "name": "python",
   "nbconvert_exporter": "python",
   "pygments_lexer": "ipython3",
   "version": "3.6.9"
  }
 },
 "nbformat": 4,
 "nbformat_minor": 4
}
